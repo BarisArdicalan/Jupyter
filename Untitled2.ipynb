{
  "metadata": {
    "language_info": {
      "codemirror_mode": {
        "name": "python",
        "version": 3
      },
      "file_extension": ".py",
      "mimetype": "text/x-python",
      "name": "python",
      "nbconvert_exporter": "python",
      "pygments_lexer": "ipython3",
      "version": "3.8"
    },
    "kernelspec": {
      "name": "python",
      "display_name": "Pyolite",
      "language": "python"
    }
  },
  "nbformat_minor": 4,
  "nbformat": 4,
  "cells": [
    {
      "cell_type": "markdown",
      "source": "<h1>\"My Jupyter Notebook on IBM Watson Studio\"",
      "metadata": {}
    },
    {
      "cell_type": "markdown",
      "source": "**Baris ARDICALAN,\nI want to be a Data Scientist** ",
      "metadata": {}
    },
    {
      "cell_type": "markdown",
      "source": "*I want to be Data Scientist, because i love to clean up the mess and i'm a little bit meticulous about everything.That's why i want to be a Data Scientist*",
      "metadata": {}
    },
    {
      "cell_type": "markdown",
      "source": "<h3> \"For Loop with range in\"",
      "metadata": {}
    },
    {
      "cell_type": "code",
      "source": "for a in range(1,10):\n    print(a)",
      "metadata": {
        "trusted": true
      },
      "execution_count": 63,
      "outputs": [
        {
          "name": "stdout",
          "text": "1\n2\n3\n4\n5\n6\n7\n8\n9\n",
          "output_type": "stream"
        }
      ]
    },
    {
      "cell_type": "markdown",
      "source": "list1=[\"Data Mining\",\"Data Scientist\",\"Data Check\"]",
      "metadata": {}
    },
    {
      "cell_type": "markdown",
      "source": "print(3*7)",
      "metadata": {}
    },
    {
      "cell_type": "markdown",
      "source": "table = ['Thor'],['Loki'],['Hulk']\nprint(table)",
      "metadata": {}
    }
  ]
}